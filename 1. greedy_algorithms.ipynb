{
  "nbformat": 4,
  "nbformat_minor": 0,
  "metadata": {
    "colab": {
      "name": "1. greedy algorithms.ipynb",
      "provenance": [],
      "collapsed_sections": [],
      "toc_visible": true
    },
    "kernelspec": {
      "name": "python3",
      "display_name": "Python 3"
    },
    "language_info": {
      "name": "python"
    }
  },
  "cells": [
    {
      "cell_type": "markdown",
      "metadata": {
        "id": "YSDrWkrlEzQg"
      },
      "source": [
        "## 그리디 알고리즘 (Greedy algorithm)"
      ]
    },
    {
      "cell_type": "markdown",
      "metadata": {
        "id": "dm70A42onpL0"
      },
      "source": [
        "### `하` 큰 수의 법칙"
      ]
    },
    {
      "cell_type": "code",
      "metadata": {
        "id": "ElpJQI5WnecN"
      },
      "source": [
        "# N, M, K 공백으로 구분해서 받기\n",
        "n,m,k = map(int, input().split())\n",
        "data = list(map(int, input().split())  # N개의 수 공백으로 구분받아서 입력\n",
        "\n",
        "data.sort()\n",
        "first = data[n-1]  # 가장 큰 수\n",
        "second = data[n-2]  # 2번째로 큰 수\n",
        "result = 0\n",
        "\n",
        "while True:\n",
        "\tfor i in range(k):\n",
        "\t\tif m == 0:\n",
        "\t\t\tbreak\n",
        "\t\tresult += first  # k번만큼 가장 큰 수 더하기\n",
        "\t\tm -= 1  # 더할때마다 M에서 1만큼씩 빼기\n",
        "\tif m == 0:\n",
        "\t\tbreak\n",
        "\tresult += second  # 두번째로 큰 수 1번만 더하기\n",
        "\tm -= 1\n",
        "print(result)"
      ],
      "execution_count": null,
      "outputs": []
    },
    {
      "cell_type": "code",
      "metadata": {
        "id": "9k9q78vNny0h"
      },
      "source": [
        "# N, M, K 공백으로 구분해서 받기\n",
        "n,m,k = map(int, input().split())\n",
        "data = list(map(int, input().split())  # N개의 수 공백으로 구분받아서 입력\n",
        "\n",
        "data.sort()\n",
        "first = data[n-1]\n",
        "second = data[n-2]\n",
        "\n",
        "# 가장 큰 수가 더해지는 횟수 계산\n",
        "count = int(m / (k+1)) * k  # 몫\n",
        "count += m % (k+1)  # 나머지\n",
        "\n",
        "result = 0\n",
        "result += (count) * first  # 가장 큰 수 count만큼 더하기\n",
        "result += (m-count) * second  # 두번째로 큰 수 m-count만큼 더하기\n",
        "print(result)"
      ],
      "execution_count": null,
      "outputs": []
    },
    {
      "cell_type": "markdown",
      "metadata": {
        "id": "xyfGsn2EnuKp"
      },
      "source": [
        "### `하` 숫자 카드 게임"
      ]
    },
    {
      "cell_type": "code",
      "metadata": {
        "id": "HMvgrVYGnvVI"
      },
      "source": [
        "# min() 함수 사용\n",
        "n,m = map(int, input().split())\n",
        "result = 0\n",
        "\n",
        "# 한 줄씩 입력받아서 확인\n",
        "for i in range(n):\n",
        "\tdata = list(map(int, input().split())\n",
        "\t# 현재 데이터 중에서 가장 작은 수 찾기\n",
        "\tmin_value = min(data)\n",
        "\t# 가장 작은 수 중에서 가장 큰 수 찾기\n",
        "\tresult = max(result, min_value)\n",
        "print(result)"
      ],
      "execution_count": null,
      "outputs": []
    },
    {
      "cell_type": "code",
      "metadata": {
        "id": "AFE32iJ5n3LI"
      },
      "source": [
        "# 2중 반복문 사용\n",
        "n,m = map(int, input().split())\n",
        "result = 0\n",
        "\n",
        "for i in range(n):\n",
        "\tdata = list(map(int, input().split())\n",
        "\t# 현재 줄에서 가장 작은 수 찾기\n",
        "\tmin_value = 10001 \n",
        "\tfor a in data:\n",
        "\t\tmin_value = min(min_value, a)\n",
        "\t# 가장 작은 수 중에서 가장 큰 수 찾기\n",
        "\tresult = max(result, min_value)\n",
        "print(result)"
      ],
      "execution_count": null,
      "outputs": []
    },
    {
      "cell_type": "markdown",
      "metadata": {
        "id": "qdbM2e2Lnv-P"
      },
      "source": [
        "### `하` 1이 될때까지"
      ]
    },
    {
      "cell_type": "code",
      "metadata": {
        "id": "cwGtoMzPnwo4"
      },
      "source": [
        "n,k = map(int, input().split())\n",
        "result = 0\n",
        "\n",
        "# N이 K 이상이라면 K로 계속 나누기\n",
        "while n >= k:\n",
        "\t# N이 K로 나누어 떨어지지 않는다면 N에서 1씩 빼기\n",
        "\twhile n % k != 0:\n",
        "\t\tn -= 1\n",
        "\t\tresult += 1\n",
        "\tn //= k\n",
        "\tresult += 1\n",
        "\n",
        "# 마지막으로 남은 수에 대해서는 1씩 빼기\n",
        "while n > 1:\n",
        "\tn -= 1\n",
        "\tresult += 1\n",
        "\n",
        "print(result)"
      ],
      "execution_count": null,
      "outputs": []
    }
  ]
}